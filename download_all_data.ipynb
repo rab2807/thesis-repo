{
 "cells": [
  {
   "cell_type": "code",
   "execution_count": 2,
   "metadata": {},
   "outputs": [
    {
     "name": "stderr",
     "output_type": "stream",
     "text": [
      "C:\\Users\\shant\\AppData\\Roaming\\Python\\Python312\\site-packages\\tqdm\\auto.py:21: TqdmWarning: IProgress not found. Please update jupyter and ipywidgets. See https://ipywidgets.readthedocs.io/en/stable/user_install.html\n",
      "  from .autonotebook import tqdm as notebook_tqdm\n"
     ]
    }
   ],
   "source": [
    "from sentinelhub import SHConfig\n",
    "\n",
    "# INSTANCE_ID = '9bf73740-000e-42a4-bf8c-58779116c642'\n",
    "CLIENT_ID = '905abcbe-7def-4ad2-95ed-16d1f35b9750'\n",
    "CLIENT_SECRET = 'tUVCjWN5gjTAfXsZ2uOBDZb6QL9mOTce'\n",
    "\n",
    "config = SHConfig()\n",
    "\n",
    "if CLIENT_ID and CLIENT_SECRET:\n",
    "    config.sh_client_id = CLIENT_ID\n",
    "    config.sh_client_secret = CLIENT_SECRET\n",
    "\n",
    "if config.sh_client_id == '' or config.sh_client_secret == '':\n",
    "    print(\"Warning! To use Sentinel Hub services, please provide the credentials (client ID and client secret).\")\n",
    "\n",
    "config.save()"
   ]
  },
  {
   "cell_type": "code",
   "execution_count": 3,
   "metadata": {},
   "outputs": [],
   "source": [
    "import os\n",
    "import datetime\n",
    "import numpy as np\n",
    "import matplotlib.pyplot as plt\n",
    "import json\n",
    "\n",
    "from sentinelhub import MimeType, CRS, BBox, SentinelHubRequest, SentinelHubDownloadClient, DataCollection, bbox_to_dimensions, DownloadRequest, MosaickingOrder"
   ]
  },
  {
   "cell_type": "code",
   "execution_count": 4,
   "metadata": {},
   "outputs": [],
   "source": [
    "from typing import Any\n",
    "\n",
    "def plot_image(\n",
    "    image: np.ndarray, factor: float = 1.0, clip_range: tuple[float, float] | None = None, **kwargs: Any\n",
    ") -> None:\n",
    "    \"\"\"Utility function for plotting RGB images.\"\"\"\n",
    "    _, ax = plt.subplots(nrows=1, ncols=1)\n",
    "    if clip_range is not None:\n",
    "        ax.imshow(np.clip(image * factor, *clip_range), **kwargs)\n",
    "    else:\n",
    "        ax.imshow(image * factor, **kwargs)\n",
    "    ax.set_xticks([])\n",
    "    ax.set_yticks([])"
   ]
  },
  {
   "cell_type": "code",
   "execution_count": 5,
   "metadata": {},
   "outputs": [],
   "source": [
    "# bands = 12 for all bands, 2 for only B11 and B12\n",
    "# mosaicking = \"SIMPLE\" for single image, \"TILE\" for multiple images metadata\n",
    "\n",
    "def download_data(date, bbox, area_size, config, bands=12, mosaicking=\"SIMPLE\"):\n",
    "    if (bands == 12):\n",
    "        bands_str = \"\"\"[\"B01\",\"B02\",\"B03\",\"B04\",\"B05\",\"B06\",\"B07\",\"B08\",\"B8A\",\"B09\",\"B11\",\"B12\"]\"\"\"\n",
    "        return_str = \"\"\"sample.B01, sample.B02, sample.B03, sample.B04, sample.B05, sample.B06, sample.B07, sample.B08, sample.B8A, sample.B09, sample.B11, sample.B12\"\"\"\n",
    "    elif (bands == 2):\n",
    "        bands_str = \"\"\"[\"B11\",\"B12\"]\"\"\"\n",
    "        return_str = \"\"\"sample.B11, sample.B12\"\"\"\n",
    "    \n",
    "    if(mosaicking == \"SIMPLE\"):\n",
    "        start_date = date\n",
    "        end_date = date\n",
    "    elif(mosaicking == \"TILE\"):\n",
    "        start_date = date - datetime.timedelta(days=60)\n",
    "        end_date = date + datetime.timedelta(days=60)\n",
    "\n",
    "    evalscript_all_bands = f\"\"\"\n",
    "    //VERSION=3\n",
    "\n",
    "    function setup() {{\n",
    "        return {{\n",
    "            input: [{{\n",
    "                bands: {bands_str},\n",
    "                units: \"REFLECTANCE\"\n",
    "            }}],\n",
    "            output: {{\n",
    "                bands: {bands},\n",
    "                sampleType: \"FLOAT32\"\n",
    "            }},\n",
    "            mosaicking: Mosaicking.{mosaicking},\n",
    "            harmonize: true\n",
    "        }};\n",
    "    }}\n",
    "\n",
    "\n",
    "    function updateOutputMetadata(scenes, inputMetadata, outputMetadata) {{\n",
    "        outputMetadata.userData = {{\n",
    "            \"norm_factor\": inputMetadata.normalizationFactors,\n",
    "            \"tiles\": scenes.tiles\n",
    "        }};\n",
    "    }}\n",
    "\n",
    "\n",
    "    function evaluatePixel(sample) {{\n",
    "        return [{return_str}];\n",
    "    }}\n",
    "    \"\"\"\n",
    "    \n",
    "    if(mosaicking == \"SIMPLE\"):\n",
    "        response = [SentinelHubRequest.output_response(\"default\", MimeType.TIFF),\n",
    "                    SentinelHubRequest.output_response(\"userdata\", MimeType.JSON)]\n",
    "    elif(mosaicking == \"TILE\"):\n",
    "        response = [SentinelHubRequest.output_response(\"userdata\", MimeType.JSON)]\n",
    "\n",
    "    request_all_bands = SentinelHubRequest(\n",
    "    evalscript=evalscript_all_bands,\n",
    "    input_data=[\n",
    "        SentinelHubRequest.input_data(\n",
    "            data_collection=DataCollection.SENTINEL2_L2A,\n",
    "            time_interval=(start_date, end_date),\n",
    "            mosaicking_order=MosaickingOrder.MOST_RECENT\n",
    "        )\n",
    "    ],\n",
    "\n",
    "    responses=response,\n",
    "    bbox=bbox,\n",
    "    size=area_size,\n",
    "    config=config,\n",
    "    )\n",
    "\n",
    "    return request_all_bands.get_data()"
   ]
  },
  {
   "cell_type": "code",
   "execution_count": 6,
   "metadata": {},
   "outputs": [],
   "source": [
    "def get_available_dates(date, lat, lon, offset_deg=0.02/2):\n",
    "    center_lat = lat\n",
    "    center_lon = lon\n",
    "    date = datetime.datetime.strptime(date, '%Y-%m-%dT%H:%M:%SZ')\n",
    "    date = date.replace(hour=0, minute=0, second=0)\n",
    "\n",
    "    bbox = BBox(bbox=[center_lon - offset_deg, center_lat - offset_deg,\n",
    "                center_lon + offset_deg, center_lat + offset_deg], crs=CRS.WGS84)\n",
    "    resolution = 20\n",
    "    area_size = bbox_to_dimensions(bbox, resolution=resolution)\n",
    "\n",
    "    all_bands_response = download_data(\n",
    "        date, bbox, area_size, config, 2, \"TILE\")\n",
    "\n",
    "    metadata = all_bands_response[0]['tiles']\n",
    "    \n",
    "    # extract dates\n",
    "    dates = []\n",
    "    for tile in metadata:\n",
    "        dates.append(tile['date'][:10])\n",
    "    # remove duplicates\n",
    "    dates = list(dict.fromkeys(dates))\n",
    "    return dates"
   ]
  },
  {
   "cell_type": "code",
   "execution_count": 7,
   "metadata": {},
   "outputs": [
    {
     "data": {
      "text/plain": [
       "1285"
      ]
     },
     "execution_count": 7,
     "metadata": {},
     "output_type": "execute_result"
    }
   ],
   "source": [
    "folder_path = './EMIT_methane_data/jsons/'\n",
    "json_files = [pos_json for pos_json in os.listdir(\n",
    "    folder_path) if pos_json.endswith('.json')]\n",
    "json_data = []\n",
    "for json_file in json_files:\n",
    "    with open(folder_path + json_file) as f:\n",
    "        data = json.load(f)\n",
    "        json_data.append(data)\n",
    "len(json_data)"
   ]
  },
  {
   "cell_type": "code",
   "execution_count": 8,
   "metadata": {},
   "outputs": [],
   "source": [
    "\n",
    "def download_range(json_data, start, end):\n",
    "    count = 0\n",
    "    for idx in range(start, end+1):\n",
    "        data = json_data[idx]\n",
    "        date_tmp = data['features'][0]['properties']['UTC Time Observed']\n",
    "        center_lat = data['features'][0]['properties']['Latitude of max concentration']\n",
    "        center_lon = data['features'][0]['properties']['Longitude of max concentration']\n",
    "\n",
    "        offset_deg = 0.02 / 2\n",
    "\n",
    "        date = datetime.datetime.strptime(date_tmp, '%Y-%m-%dT%H:%M:%SZ')\n",
    "        date = date.replace(hour=0, minute=0, second=0)\n",
    "\n",
    "        bbox = BBox(bbox=[center_lon - offset_deg, center_lat - offset_deg, center_lon + offset_deg, center_lat + offset_deg], crs=CRS.WGS84)\n",
    "\n",
    "        resolution = 20\n",
    "        area_size = bbox_to_dimensions(bbox, resolution=resolution)\n",
    "\n",
    "        available_dates = get_available_dates(date.strftime('%Y-%m-%dT%H:%M:%SZ'), center_lat, center_lon)\n",
    "\n",
    "        start_date = available_dates[len(available_dates) - 1][:10]\n",
    "        end_date = available_dates[0][:10]\n",
    "        folder_name = f\"./data/_{idx + 1}_{start_date}_{end_date}\"  # folder name is start-date_end-date\n",
    "        os.makedirs(folder_name, exist_ok=True)\n",
    "\n",
    "        for date_idx in available_dates:\n",
    "            all_bands_response = download_data(date_idx, bbox, area_size, config, 2, \"SIMPLE\")  # download B11 and B12 bands\n",
    "            image_data = all_bands_response[0]['default.tif']\n",
    "            json_data_tmp = all_bands_response[0]['userdata.json']['tiles'][0]\n",
    "            json_data_tmp['dimensions'] = image_data.shape\n",
    "            json_data_tmp['bounding_box'] = {\n",
    "                \"min_lat\": center_lat - offset_deg,\n",
    "                \"max_lat\": center_lat + offset_deg,\n",
    "                \"min_lon\": center_lon - offset_deg,\n",
    "                \"max_lon\": center_lon + offset_deg\n",
    "            }\n",
    "\n",
    "            curr_date = date_idx[:10]\n",
    "            np.save(f\"{folder_name}/{curr_date}.npy\", image_data)\n",
    "            with open(f\"{folder_name}/{curr_date}.json\", \"w\") as f:\n",
    "                json.dump(json_data_tmp, f)\n",
    "        count = count + 1\n",
    "        print(f\"Progress: {count}/{end-start+1}  Total image count: {len(available_dates)}  Saved: {folder_name}\")\n",
    "\n",
    "# Example usage\n",
    "# process_json_data(json_data, start, end)\n"
   ]
  },
  {
   "cell_type": "code",
   "execution_count": 9,
   "metadata": {},
   "outputs": [],
   "source": [
    "# zero based indexing\n",
    "download_range(json_data, 300, 599)"
   ]
  }
 ],
 "metadata": {
  "kernelspec": {
   "display_name": "Python 3",
   "language": "python",
   "name": "python3"
  },
  "language_info": {
   "codemirror_mode": {
    "name": "ipython",
    "version": 3
   },
   "file_extension": ".py",
   "mimetype": "text/x-python",
   "name": "python",
   "nbconvert_exporter": "python",
   "pygments_lexer": "ipython3",
   "version": "3.12.3"
  }
 },
 "nbformat": 4,
 "nbformat_minor": 2
}
